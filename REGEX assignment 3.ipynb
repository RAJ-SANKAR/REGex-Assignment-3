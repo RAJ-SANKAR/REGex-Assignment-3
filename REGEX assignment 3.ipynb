{
 "cells": [
  {
   "cell_type": "markdown",
   "id": "e70e7dab",
   "metadata": {},
   "source": [
    "# TASK 3\n",
    "\n",
    "Registration ID : SIRSS2140\n",
    "    \n",
    "RAJ SANKAR GS"
   ]
  },
  {
   "cell_type": "markdown",
   "id": "8ad8c25c",
   "metadata": {},
   "source": [
    "Q1. Write a function to return nth term of Fibonacci sequence."
   ]
  },
  {
   "cell_type": "code",
   "execution_count": 1,
   "id": "05e05be9",
   "metadata": {},
   "outputs": [
    {
     "name": "stdout",
     "output_type": "stream",
     "text": [
      "Enter a number:8\n",
      "8th term of Fibonacci series is 21\n"
     ]
    }
   ],
   "source": [
    "F=int(input(\"Enter a number:\"))\n",
    "def fibonacci(n):\n",
    "  if n==1:\n",
    "    return 1\n",
    "  elif n==0:\n",
    "    return 0\n",
    "  else:\n",
    "    return fibonacci(n-1)+fibonacci(n-2)\n",
    "\n",
    "result=fibonacci(F)\n",
    "print(\"{0}th term of Fibonacci series is {1}\".format(F,result))"
   ]
  },
  {
   "cell_type": "markdown",
   "id": "2855ca07",
   "metadata": {},
   "source": [
    "Q2. Write a function to find out GCD of two numbers using EUCLID'S algorithm."
   ]
  },
  {
   "cell_type": "code",
   "execution_count": 2,
   "id": "f811d47b",
   "metadata": {},
   "outputs": [
    {
     "name": "stdout",
     "output_type": "stream",
     "text": [
      "Enter first number:144\n",
      "Enter second number:64\n",
      "16\n"
     ]
    }
   ],
   "source": [
    "def gcd(x,y):\n",
    "    if x<y: \n",
    "        (x,y) = (y,x)\n",
    "    while (x % y != 0):\n",
    "        (x, y) = (y, x % y)\n",
    "    return y\n",
    "\n",
    "x=int(input(\"Enter first number:\"))\n",
    "y=int(input(\"Enter second number:\"))\n",
    "print(gcd(x,y))"
   ]
  },
  {
   "cell_type": "markdown",
   "id": "86e4b744",
   "metadata": {},
   "source": [
    "Q3. Write a function to find LCM of two number in most optimizers way."
   ]
  },
  {
   "cell_type": "code",
   "execution_count": 3,
   "id": "13959976",
   "metadata": {},
   "outputs": [
    {
     "name": "stdout",
     "output_type": "stream",
     "text": [
      "LCM of 38 and 25 is 950.0\n"
     ]
    }
   ],
   "source": [
    "def gcd(a,b):\n",
    "    if a == 0:\n",
    "        return b\n",
    "    return gcd(b % a, a)\n",
    " \n",
    "# Function to return LCM of two numbers\n",
    "def lcm(a,b):\n",
    "    return (a / gcd(a,b))* b\n",
    " \n",
    "# Driver program to test above function\n",
    "a = 38\n",
    "b = 25\n",
    "print('LCM of', a, 'and', b, 'is', lcm(a, b))"
   ]
  }
 ],
 "metadata": {
  "kernelspec": {
   "display_name": "Python 3",
   "language": "python",
   "name": "python3"
  },
  "language_info": {
   "codemirror_mode": {
    "name": "ipython",
    "version": 3
   },
   "file_extension": ".py",
   "mimetype": "text/x-python",
   "name": "python",
   "nbconvert_exporter": "python",
   "pygments_lexer": "ipython3",
   "version": "3.8.8"
  }
 },
 "nbformat": 4,
 "nbformat_minor": 5
}
